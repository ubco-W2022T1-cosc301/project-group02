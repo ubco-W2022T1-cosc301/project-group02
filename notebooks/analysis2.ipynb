{
 "cells": [
  {
   "cell_type": "markdown",
   "metadata": {
    "tags": []
   },
   "source": [
    "# Abijeet Dhillon"
   ]
  },
  {
   "cell_type": "markdown",
   "metadata": {},
   "source": [
    "# Research question/interests\n",
    "\n",
    "# With this project, I hope to discover the top 10 countries that have the highest percentage of energy produced in a clean matter (when compared to their other means of producing energy). Also, I hope to uncover the top 10 countries thay have the highest percentage of their energy produced by coal (the most polluting source of energy). I am interested in this dataset since it describes the shift, or lack of, countries have undergone to adjust their means of producing energy to become more environmentally conscious. A specific question I have is which country has made the largest reduction in their usage of fossil fuels to produce energy. Another specific question I have is what were the percentages of sources of energy production for countries in this dataset in the mid 1900's compared to now. Lastly, I want to look at the most energy producing countries each 10 years and see if those countries have a pattern of producing the most or if it varies every 20 to 30 years. I could imagine myself building a user friendly dashboard with this dataset since there is a lot of useful and up-to-date data in this dataset."
   ]
  },
  {
   "cell_type": "code",
   "execution_count": 3,
   "metadata": {},
   "outputs": [
    {
     "name": "stdout",
     "output_type": "stream",
     "text": [
      "           country  year iso_code  population           gdp  \\\n",
      "0      Afghanistan  1900      AFG   4832414.0           NaN   \n",
      "1      Afghanistan  1901      AFG   4879685.0           NaN   \n",
      "2      Afghanistan  1902      AFG   4935122.0           NaN   \n",
      "3      Afghanistan  1903      AFG   4998861.0           NaN   \n",
      "4      Afghanistan  1904      AFG   5063419.0           NaN   \n",
      "...            ...   ...      ...         ...           ...   \n",
      "22338     Zimbabwe  2017      ZWE  14236599.0  2.194784e+10   \n",
      "22339     Zimbabwe  2018      ZWE  14438812.0  2.271535e+10   \n",
      "22340     Zimbabwe  2019      ZWE  14645473.0           NaN   \n",
      "22341     Zimbabwe  2020      ZWE  14862927.0           NaN   \n",
      "22342     Zimbabwe  2021      ZWE  15092171.0           NaN   \n",
      "\n",
      "       biofuel_cons_change_pct  biofuel_cons_change_twh  \\\n",
      "0                          NaN                      NaN   \n",
      "1                          NaN                      NaN   \n",
      "2                          NaN                      NaN   \n",
      "3                          NaN                      NaN   \n",
      "4                          NaN                      NaN   \n",
      "...                        ...                      ...   \n",
      "22338                      NaN                      NaN   \n",
      "22339                      NaN                      NaN   \n",
      "22340                      NaN                      NaN   \n",
      "22341                      NaN                      NaN   \n",
      "22342                      NaN                      NaN   \n",
      "\n",
      "       biofuel_cons_per_capita  biofuel_consumption  biofuel_elec_per_capita  \\\n",
      "0                          NaN                  NaN                      NaN   \n",
      "1                          NaN                  NaN                      NaN   \n",
      "2                          NaN                  NaN                      NaN   \n",
      "3                          NaN                  NaN                      NaN   \n",
      "4                          NaN                  NaN                      NaN   \n",
      "...                        ...                  ...                      ...   \n",
      "22338                      NaN                  NaN                   22.477   \n",
      "22339                      NaN                  NaN                   27.011   \n",
      "22340                      NaN                  NaN                   25.947   \n",
      "22341                      NaN                  NaN                   24.221   \n",
      "22342                      NaN                  NaN                      NaN   \n",
      "\n",
      "       ...  solar_share_elec  solar_share_energy  wind_cons_change_pct  \\\n",
      "0      ...               NaN                 NaN                   NaN   \n",
      "1      ...               NaN                 NaN                   NaN   \n",
      "2      ...               NaN                 NaN                   NaN   \n",
      "3      ...               NaN                 NaN                   NaN   \n",
      "4      ...               NaN                 NaN                   NaN   \n",
      "...    ...               ...                 ...                   ...   \n",
      "22338  ...             0.137                 NaN                   NaN   \n",
      "22339  ...             0.110                 NaN                   NaN   \n",
      "22340  ...             0.088                 NaN                   NaN   \n",
      "22341  ...             0.090                 NaN                   NaN   \n",
      "22342  ...               NaN                 NaN                   NaN   \n",
      "\n",
      "       wind_cons_change_twh  wind_consumption  wind_elec_per_capita  \\\n",
      "0                       NaN               NaN                   NaN   \n",
      "1                       NaN               NaN                   NaN   \n",
      "2                       NaN               NaN                   NaN   \n",
      "3                       NaN               NaN                   NaN   \n",
      "4                       NaN               NaN                   NaN   \n",
      "...                     ...               ...                   ...   \n",
      "22338                   NaN               NaN                   0.0   \n",
      "22339                   NaN               NaN                   0.0   \n",
      "22340                   NaN               NaN                   0.0   \n",
      "22341                   NaN               NaN                   0.0   \n",
      "22342                   NaN               NaN                   NaN   \n",
      "\n",
      "       wind_electricity  wind_energy_per_capita  wind_share_elec  \\\n",
      "0                   NaN                     NaN              NaN   \n",
      "1                   NaN                     NaN              NaN   \n",
      "2                   NaN                     NaN              NaN   \n",
      "3                   NaN                     NaN              NaN   \n",
      "4                   NaN                     NaN              NaN   \n",
      "...                 ...                     ...              ...   \n",
      "22338               0.0                     NaN              0.0   \n",
      "22339               0.0                     NaN              0.0   \n",
      "22340               0.0                     NaN              0.0   \n",
      "22341               0.0                     NaN              0.0   \n",
      "22342               NaN                     NaN              NaN   \n",
      "\n",
      "       wind_share_energy  \n",
      "0                    NaN  \n",
      "1                    NaN  \n",
      "2                    NaN  \n",
      "3                    NaN  \n",
      "4                    NaN  \n",
      "...                  ...  \n",
      "22338                NaN  \n",
      "22339                NaN  \n",
      "22340                NaN  \n",
      "22341                NaN  \n",
      "22342                NaN  \n",
      "\n",
      "[22343 rows x 128 columns]\n"
     ]
    }
   ],
   "source": [
    "import pandas as pd\n",
    "df = pd.read_csv('owid-energy-data.csv')\n",
    "print(df)"
   ]
  },
  {
   "cell_type": "code",
   "execution_count": null,
   "metadata": {},
   "outputs": [],
   "source": []
  },
  {
   "cell_type": "code",
   "execution_count": null,
   "metadata": {},
   "outputs": [],
   "source": []
  }
 ],
 "metadata": {
  "kernelspec": {
   "display_name": "Python 3 (ipykernel)",
   "language": "python",
   "name": "python3"
  },
  "language_info": {
   "codemirror_mode": {
    "name": "ipython",
    "version": 3
   },
   "file_extension": ".py",
   "mimetype": "text/x-python",
   "name": "python",
   "nbconvert_exporter": "python",
   "pygments_lexer": "ipython3",
   "version": "3.9.12"
  }
 },
 "nbformat": 4,
 "nbformat_minor": 4
}
